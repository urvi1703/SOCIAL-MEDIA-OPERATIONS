{
  "nbformat": 4,
  "nbformat_minor": 0,
  "metadata": {
    "colab": {
      "provenance": [],
      "include_colab_link": true
    },
    "kernelspec": {
      "name": "python3",
      "display_name": "Python 3"
    },
    "language_info": {
      "name": "python"
    }
  },
  "cells": [
    {
      "cell_type": "markdown",
      "metadata": {
        "id": "view-in-github",
        "colab_type": "text"
      },
      "source": [
        "<a href=\"https://colab.research.google.com/github/urvi1703/SOCIAL-MEDIA-OPERATIONS/blob/main/discord.ipynb\" target=\"_parent\"><img src=\"https://colab.research.google.com/assets/colab-badge.svg\" alt=\"Open In Colab\"/></a>"
      ]
    },
    {
      "cell_type": "code",
      "execution_count": null,
      "metadata": {
        "colab": {
          "base_uri": "https://localhost:8080/"
        },
        "id": "z4qx8hlFi19y",
        "outputId": "806057fb-5861-4db1-86ac-901fbac6b4ec"
      },
      "outputs": [
        {
          "output_type": "stream",
          "name": "stdout",
          "text": [
            "Requirement already satisfied: requests in /usr/local/lib/python3.10/dist-packages (2.32.3)\n",
            "Requirement already satisfied: charset-normalizer<4,>=2 in /usr/local/lib/python3.10/dist-packages (from requests) (3.4.0)\n",
            "Requirement already satisfied: idna<4,>=2.5 in /usr/local/lib/python3.10/dist-packages (from requests) (3.10)\n",
            "Requirement already satisfied: urllib3<3,>=1.21.1 in /usr/local/lib/python3.10/dist-packages (from requests) (2.2.3)\n",
            "Requirement already satisfied: certifi>=2017.4.17 in /usr/local/lib/python3.10/dist-packages (from requests) (2024.8.30)\n"
          ]
        }
      ],
      "source": [
        "!pip install requests\n"
      ]
    },
    {
      "cell_type": "code",
      "source": [
        "import requests\n",
        "\n",
        "# Replace with your Discord Webhook URL\n",
        "webhook_url = \"https://discord.com/api/webhooks/1313062399561171044/Gwc6Z91G-cPKfVO2CzmAmbw3dQpfXcZp7nA_J-iicN_m6vR7jB5YHXaUqbxIXqMkavcH\"\n",
        "\n",
        "# Message content\n",
        "message = {\n",
        "    \"content\": \"Hello, Discord! This message is sent from Python in Google Colab. 🚀\"\n",
        "}\n",
        "\n",
        "# Send POST request\n",
        "response = requests.post(webhook_url, json=message)\n",
        "\n",
        "# Check response\n",
        "if response.status_code == 204:\n",
        "    print(\"Message sent successfully!\")\n",
        "else:\n",
        "    print(f\"Failed to send message. Status code: {response.status_code}\")\n"
      ],
      "metadata": {
        "colab": {
          "base_uri": "https://localhost:8080/"
        },
        "id": "hp4Z6Kd9i-yL",
        "outputId": "8df891af-61de-4d12-cc13-cd378ccb3105"
      },
      "execution_count": null,
      "outputs": [
        {
          "output_type": "stream",
          "name": "stdout",
          "text": [
            "Message sent successfully!\n"
          ]
        }
      ]
    },
    {
      "cell_type": "code",
      "source": [
        "message_with_embed = {\n",
        "    \"content\": \"Check out this cool embed!\",\n",
        "    \"embeds\": [\n",
        "        {\n",
        "            \"title\": \"Python Automation\",\n",
        "            \"description\": \"This message was sent using a webhook and Python.\",\n",
        "            \"url\": \"https://www.python.org\",\n",
        "            \"color\": 5814783,  # Hex color code (e.g., #58A6FF)\n",
        "            \"footer\": {\"text\": \"Powered by Python 🚀\"}\n",
        "        }\n",
        "    ]\n",
        "}\n",
        "\n",
        "response = requests.post(webhook_url, json=message_with_embed)\n",
        "\n",
        "if response.status_code == 204:\n",
        "    print(\"Message with embed sent successfully!\")\n",
        "else:\n",
        "    print(f\"Failed to send message. Status code: {response.status_code}\")\n"
      ],
      "metadata": {
        "colab": {
          "base_uri": "https://localhost:8080/"
        },
        "id": "xBtd05WejVNr",
        "outputId": "a6f3d12c-51e3-4c11-dfff-7881d2118105"
      },
      "execution_count": null,
      "outputs": [
        {
          "output_type": "stream",
          "name": "stdout",
          "text": [
            "Message with embed sent successfully!\n"
          ]
        }
      ]
    },
    {
      "cell_type": "code",
      "source": [
        "message_with_image = {\n",
        "    \"content\": \"Here's an image!\",\n",
        "    \"embeds\": [\n",
        "        {\n",
        "            \"title\": \"Check out this picture!\",\n",
        "            \"image\": {\"url\": \"https://wallpapershome.com/images/pages/pic_h/5186.jpg\"}\n",
        "        }\n",
        "    ]\n",
        "}\n",
        "\n",
        "response = requests.post(webhook_url, json=message_with_image)\n",
        "\n",
        "if response.status_code == 204:\n",
        "    print(\"Image sent successfully!\")\n",
        "else:\n",
        "    print(f\"Failed to send image. Status code: {response.status_code}\")\n"
      ],
      "metadata": {
        "colab": {
          "base_uri": "https://localhost:8080/"
        },
        "id": "y1yUmiYMjaq2",
        "outputId": "5926d57f-24d5-4ba2-b051-c3583f4ae976"
      },
      "execution_count": null,
      "outputs": [
        {
          "output_type": "stream",
          "name": "stdout",
          "text": [
            "Image sent successfully!\n"
          ]
        }
      ]
    },
    {
      "cell_type": "code",
      "source": [
        "import requests\n",
        "\n",
        "# Replace with your Discord Webhook URL\n",
        "webhook_url = \"https://discord.com/api/webhooks/1313062399561171044/Gwc6Z91G-cPKfVO2CzmAmbw3dQpfXcZp7nA_J-iicN_m6vR7jB5YHXaUqbxIXqMkavcH\"\n",
        "\n",
        "# Message contentThis message is sent from Python in Google Colab. 🚀\"\n",
        "message = {\n",
        "    \"content\": \"Hello, Discord!\"\n",
        "}\n",
        "\n",
        "# Send POST request\n",
        "response = requests.post(webhook_url, json=message)\n",
        "\n",
        "# Check response\n",
        "if response.status_code == 204:\n",
        "    print(\"Message sent successfully!\")\n",
        "else:\n",
        "    print(f\"Failed to send message. Status code: {response.status_code}\")"
      ],
      "metadata": {
        "colab": {
          "base_uri": "https://localhost:8080/"
        },
        "id": "51YPwSHHuMhv",
        "outputId": "4e36690a-3e08-4a1e-8d6e-1357206308fb"
      },
      "execution_count": null,
      "outputs": [
        {
          "output_type": "stream",
          "name": "stdout",
          "text": [
            "Message sent successfully!\n"
          ]
        }
      ]
    },
    {
      "cell_type": "code",
      "source": [
        "import time\n",
        "\n",
        "for i in range(5):  # Send 5 messages\n",
        "    message = {\"content\": f\"Automated Message #{i+1}\"}\n",
        "    response = requests.post(webhook_url, json=message)\n",
        "\n",
        "    if response.status_code == 204:\n",
        "        print(f\"Message #{i+1} sent successfully!\")\n",
        "    else:\n",
        "        print(f\"Failed to send message #{i+1}. Status code: {response.status_code}\")\n",
        "\n",
        "    time.sleep(10)  # Wait 10 seconds before sending the next message\n"
      ],
      "metadata": {
        "colab": {
          "base_uri": "https://localhost:8080/"
        },
        "id": "BsJi7eKkuveu",
        "outputId": "c71ec18e-3eea-4f69-f487-ab6a177ea4f2"
      },
      "execution_count": null,
      "outputs": [
        {
          "output_type": "stream",
          "name": "stdout",
          "text": [
            "Message #1 sent successfully!\n",
            "Message #2 sent successfully!\n",
            "Message #3 sent successfully!\n",
            "Message #4 sent successfully!\n",
            "Message #5 sent successfully!\n"
          ]
        }
      ]
    },
    {
      "cell_type": "code",
      "source": [
        "!pip install streamlit"
      ],
      "metadata": {
        "colab": {
          "base_uri": "https://localhost:8080/"
        },
        "id": "XKJxiTe5u3ha",
        "outputId": "6bfb3398-b582-43b3-cf0a-a9dc317c5820"
      },
      "execution_count": 2,
      "outputs": [
        {
          "output_type": "stream",
          "name": "stdout",
          "text": [
            "Collecting streamlit\n",
            "  Downloading streamlit-1.40.2-py2.py3-none-any.whl.metadata (8.4 kB)\n",
            "Requirement already satisfied: altair<6,>=4.0 in /usr/local/lib/python3.10/dist-packages (from streamlit) (4.2.2)\n",
            "Requirement already satisfied: blinker<2,>=1.0.0 in /usr/local/lib/python3.10/dist-packages (from streamlit) (1.9.0)\n",
            "Requirement already satisfied: cachetools<6,>=4.0 in /usr/local/lib/python3.10/dist-packages (from streamlit) (5.5.0)\n",
            "Requirement already satisfied: click<9,>=7.0 in /usr/local/lib/python3.10/dist-packages (from streamlit) (8.1.7)\n",
            "Requirement already satisfied: numpy<3,>=1.23 in /usr/local/lib/python3.10/dist-packages (from streamlit) (1.26.4)\n",
            "Requirement already satisfied: packaging<25,>=20 in /usr/local/lib/python3.10/dist-packages (from streamlit) (24.2)\n",
            "Requirement already satisfied: pandas<3,>=1.4.0 in /usr/local/lib/python3.10/dist-packages (from streamlit) (2.2.2)\n",
            "Requirement already satisfied: pillow<12,>=7.1.0 in /usr/local/lib/python3.10/dist-packages (from streamlit) (11.0.0)\n",
            "Requirement already satisfied: protobuf<6,>=3.20 in /usr/local/lib/python3.10/dist-packages (from streamlit) (4.25.5)\n",
            "Requirement already satisfied: pyarrow>=7.0 in /usr/local/lib/python3.10/dist-packages (from streamlit) (17.0.0)\n",
            "Requirement already satisfied: requests<3,>=2.27 in /usr/local/lib/python3.10/dist-packages (from streamlit) (2.32.3)\n",
            "Requirement already satisfied: rich<14,>=10.14.0 in /usr/local/lib/python3.10/dist-packages (from streamlit) (13.9.4)\n",
            "Requirement already satisfied: tenacity<10,>=8.1.0 in /usr/local/lib/python3.10/dist-packages (from streamlit) (9.0.0)\n",
            "Requirement already satisfied: toml<2,>=0.10.1 in /usr/local/lib/python3.10/dist-packages (from streamlit) (0.10.2)\n",
            "Requirement already satisfied: typing-extensions<5,>=4.3.0 in /usr/local/lib/python3.10/dist-packages (from streamlit) (4.12.2)\n",
            "Collecting watchdog<7,>=2.1.5 (from streamlit)\n",
            "  Downloading watchdog-6.0.0-py3-none-manylinux2014_x86_64.whl.metadata (44 kB)\n",
            "\u001b[2K     \u001b[90m━━━━━━━━━━━━━━━━━━━━━━━━━━━━━━━━━━━━━━━━\u001b[0m \u001b[32m44.3/44.3 kB\u001b[0m \u001b[31m2.9 MB/s\u001b[0m eta \u001b[36m0:00:00\u001b[0m\n",
            "\u001b[?25hRequirement already satisfied: gitpython!=3.1.19,<4,>=3.0.7 in /usr/local/lib/python3.10/dist-packages (from streamlit) (3.1.43)\n",
            "Collecting pydeck<1,>=0.8.0b4 (from streamlit)\n",
            "  Downloading pydeck-0.9.1-py2.py3-none-any.whl.metadata (4.1 kB)\n",
            "Requirement already satisfied: tornado<7,>=6.0.3 in /usr/local/lib/python3.10/dist-packages (from streamlit) (6.3.3)\n",
            "Requirement already satisfied: entrypoints in /usr/local/lib/python3.10/dist-packages (from altair<6,>=4.0->streamlit) (0.4)\n",
            "Requirement already satisfied: jinja2 in /usr/local/lib/python3.10/dist-packages (from altair<6,>=4.0->streamlit) (3.1.4)\n",
            "Requirement already satisfied: jsonschema>=3.0 in /usr/local/lib/python3.10/dist-packages (from altair<6,>=4.0->streamlit) (4.23.0)\n",
            "Requirement already satisfied: toolz in /usr/local/lib/python3.10/dist-packages (from altair<6,>=4.0->streamlit) (0.12.1)\n",
            "Requirement already satisfied: gitdb<5,>=4.0.1 in /usr/local/lib/python3.10/dist-packages (from gitpython!=3.1.19,<4,>=3.0.7->streamlit) (4.0.11)\n",
            "Requirement already satisfied: python-dateutil>=2.8.2 in /usr/local/lib/python3.10/dist-packages (from pandas<3,>=1.4.0->streamlit) (2.8.2)\n",
            "Requirement already satisfied: pytz>=2020.1 in /usr/local/lib/python3.10/dist-packages (from pandas<3,>=1.4.0->streamlit) (2024.2)\n",
            "Requirement already satisfied: tzdata>=2022.7 in /usr/local/lib/python3.10/dist-packages (from pandas<3,>=1.4.0->streamlit) (2024.2)\n",
            "Requirement already satisfied: charset-normalizer<4,>=2 in /usr/local/lib/python3.10/dist-packages (from requests<3,>=2.27->streamlit) (3.4.0)\n",
            "Requirement already satisfied: idna<4,>=2.5 in /usr/local/lib/python3.10/dist-packages (from requests<3,>=2.27->streamlit) (3.10)\n",
            "Requirement already satisfied: urllib3<3,>=1.21.1 in /usr/local/lib/python3.10/dist-packages (from requests<3,>=2.27->streamlit) (2.2.3)\n",
            "Requirement already satisfied: certifi>=2017.4.17 in /usr/local/lib/python3.10/dist-packages (from requests<3,>=2.27->streamlit) (2024.8.30)\n",
            "Requirement already satisfied: markdown-it-py>=2.2.0 in /usr/local/lib/python3.10/dist-packages (from rich<14,>=10.14.0->streamlit) (3.0.0)\n",
            "Requirement already satisfied: pygments<3.0.0,>=2.13.0 in /usr/local/lib/python3.10/dist-packages (from rich<14,>=10.14.0->streamlit) (2.18.0)\n",
            "Requirement already satisfied: smmap<6,>=3.0.1 in /usr/local/lib/python3.10/dist-packages (from gitdb<5,>=4.0.1->gitpython!=3.1.19,<4,>=3.0.7->streamlit) (5.0.1)\n",
            "Requirement already satisfied: MarkupSafe>=2.0 in /usr/local/lib/python3.10/dist-packages (from jinja2->altair<6,>=4.0->streamlit) (3.0.2)\n",
            "Requirement already satisfied: attrs>=22.2.0 in /usr/local/lib/python3.10/dist-packages (from jsonschema>=3.0->altair<6,>=4.0->streamlit) (24.2.0)\n",
            "Requirement already satisfied: jsonschema-specifications>=2023.03.6 in /usr/local/lib/python3.10/dist-packages (from jsonschema>=3.0->altair<6,>=4.0->streamlit) (2024.10.1)\n",
            "Requirement already satisfied: referencing>=0.28.4 in /usr/local/lib/python3.10/dist-packages (from jsonschema>=3.0->altair<6,>=4.0->streamlit) (0.35.1)\n",
            "Requirement already satisfied: rpds-py>=0.7.1 in /usr/local/lib/python3.10/dist-packages (from jsonschema>=3.0->altair<6,>=4.0->streamlit) (0.21.0)\n",
            "Requirement already satisfied: mdurl~=0.1 in /usr/local/lib/python3.10/dist-packages (from markdown-it-py>=2.2.0->rich<14,>=10.14.0->streamlit) (0.1.2)\n",
            "Requirement already satisfied: six>=1.5 in /usr/local/lib/python3.10/dist-packages (from python-dateutil>=2.8.2->pandas<3,>=1.4.0->streamlit) (1.16.0)\n",
            "Downloading streamlit-1.40.2-py2.py3-none-any.whl (8.6 MB)\n",
            "\u001b[2K   \u001b[90m━━━━━━━━━━━━━━━━━━━━━━━━━━━━━━━━━━━━━━━━\u001b[0m \u001b[32m8.6/8.6 MB\u001b[0m \u001b[31m64.5 MB/s\u001b[0m eta \u001b[36m0:00:00\u001b[0m\n",
            "\u001b[?25hDownloading pydeck-0.9.1-py2.py3-none-any.whl (6.9 MB)\n",
            "\u001b[2K   \u001b[90m━━━━━━━━━━━━━━━━━━━━━━━━━━━━━━━━━━━━━━━━\u001b[0m \u001b[32m6.9/6.9 MB\u001b[0m \u001b[31m64.9 MB/s\u001b[0m eta \u001b[36m0:00:00\u001b[0m\n",
            "\u001b[?25hDownloading watchdog-6.0.0-py3-none-manylinux2014_x86_64.whl (79 kB)\n",
            "\u001b[2K   \u001b[90m━━━━━━━━━━━━━━━━━━━━━━━━━━━━━━━━━━━━━━━━\u001b[0m \u001b[32m79.1/79.1 kB\u001b[0m \u001b[31m6.2 MB/s\u001b[0m eta \u001b[36m0:00:00\u001b[0m\n",
            "\u001b[?25hInstalling collected packages: watchdog, pydeck, streamlit\n",
            "Successfully installed pydeck-0.9.1 streamlit-1.40.2 watchdog-6.0.0\n"
          ]
        }
      ]
    },
    {
      "cell_type": "code",
      "source": [
        "import streamlit as st\n",
        "\n",
        "# Placeholder for Discord operations\n",
        "def main():\n",
        "    st.write(\"Welcome to Discord Operations!\")\n",
        "\n",
        "    action = st.selectbox(\"Choose an action\", [\"Send a Message\", \"Read Messages\", \"Update a Message\", \"Delete a Message\"])\n",
        "\n",
        "    if action == \"Send a Message\":\n",
        "        # Add functionality to send a message to a Discord channel\n",
        "        channel_id = st.text_input(\"Enter Channel ID:\")\n",
        "        message = st.text_input(\"Enter your message:\")\n",
        "        if st.button(\"Send Message\"):\n",
        "            # Call Discord API to send the message\n",
        "            st.success(f\"Message sent to channel {channel_id} successfully!\")\n",
        "\n",
        "    elif action == \"Read Messages\":\n",
        "        # Add functionality to fetch messages from a Discord channel\n",
        "        channel_id = st.text_input(\"Enter Channel ID:\")\n",
        "        if st.button(\"Fetch Messages\"):\n",
        "            # Call Discord API to fetch messages\n",
        "            st.write(f\"Fetching messages from channel {channel_id}...\")\n",
        "\n",
        "    elif action == \"Update a Message\":\n",
        "        # Add functionality to update an existing message in a Discord channel\n",
        "        message_id = st.text_input(\"Enter Message ID:\")\n",
        "        updated_message = st.text_input(\"Enter the updated message:\")\n",
        "        if st.button(\"Update Message\"):\n",
        "            # Call Discord API to update the message\n",
        "            st.success(f\"Message {message_id} updated successfully!\")\n",
        "\n",
        "    elif action == \"Delete a Message\":\n",
        "        # Add functionality to delete a message from a Discord channel\n",
        "        message_id = st.text_input(\"Enter Message ID:\")\n",
        "        if st.button(\"Delete Message\"):\n",
        "            # Call Discord API to delete the message\n",
        "            st.success(f\"Message {message_id} deleted successfully!\")\n"
      ],
      "metadata": {
        "id": "-hAMwcc0u0xw"
      },
      "execution_count": 3,
      "outputs": []
    }
  ]
}