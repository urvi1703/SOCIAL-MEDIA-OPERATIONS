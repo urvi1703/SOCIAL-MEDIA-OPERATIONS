{
  "nbformat": 4,
  "nbformat_minor": 0,
  "metadata": {
    "colab": {
      "provenance": [],
      "include_colab_link": true
    },
    "kernelspec": {
      "name": "python3",
      "display_name": "Python 3"
    },
    "language_info": {
      "name": "python"
    }
  },
  "cells": [
    {
      "cell_type": "markdown",
      "metadata": {
        "id": "view-in-github",
        "colab_type": "text"
      },
      "source": [
        "<a href=\"https://colab.research.google.com/github/urvi1703/SOCIAL-MEDIA-OPERATIONS/blob/main/discord.ipynb\" target=\"_parent\"><img src=\"https://colab.research.google.com/assets/colab-badge.svg\" alt=\"Open In Colab\"/></a>"
      ]
    },
    {
      "cell_type": "code",
      "execution_count": null,
      "metadata": {
        "colab": {
          "base_uri": "https://localhost:8080/"
        },
        "id": "z4qx8hlFi19y",
        "outputId": "806057fb-5861-4db1-86ac-901fbac6b4ec"
      },
      "outputs": [
        {
          "output_type": "stream",
          "name": "stdout",
          "text": [
            "Requirement already satisfied: requests in /usr/local/lib/python3.10/dist-packages (2.32.3)\n",
            "Requirement already satisfied: charset-normalizer<4,>=2 in /usr/local/lib/python3.10/dist-packages (from requests) (3.4.0)\n",
            "Requirement already satisfied: idna<4,>=2.5 in /usr/local/lib/python3.10/dist-packages (from requests) (3.10)\n",
            "Requirement already satisfied: urllib3<3,>=1.21.1 in /usr/local/lib/python3.10/dist-packages (from requests) (2.2.3)\n",
            "Requirement already satisfied: certifi>=2017.4.17 in /usr/local/lib/python3.10/dist-packages (from requests) (2024.8.30)\n"
          ]
        }
      ],
      "source": [
        "!pip install requests\n"
      ]
    },
    {
      "cell_type": "code",
      "source": [
        "import requests\n",
        "\n",
        "# Replace with your Discord Webhook URL\n",
        "webhook_url = \"https://discord.com/api/webhooks/1313062399561171044/Gwc6Z91G-cPKfVO2CzmAmbw3dQpfXcZp7nA_J-iicN_m6vR7jB5YHXaUqbxIXqMkavcH\"\n",
        "\n",
        "# Message content\n",
        "message = {\n",
        "    \"content\": \"Hello, Discord! This message is sent from Python in Google Colab. 🚀\"\n",
        "}\n",
        "\n",
        "# Send POST request\n",
        "response = requests.post(webhook_url, json=message)\n",
        "\n",
        "# Check response\n",
        "if response.status_code == 204:\n",
        "    print(\"Message sent successfully!\")\n",
        "else:\n",
        "    print(f\"Failed to send message. Status code: {response.status_code}\")\n"
      ],
      "metadata": {
        "colab": {
          "base_uri": "https://localhost:8080/"
        },
        "id": "hp4Z6Kd9i-yL",
        "outputId": "8df891af-61de-4d12-cc13-cd378ccb3105"
      },
      "execution_count": null,
      "outputs": [
        {
          "output_type": "stream",
          "name": "stdout",
          "text": [
            "Message sent successfully!\n"
          ]
        }
      ]
    },
    {
      "cell_type": "code",
      "source": [
        "message_with_embed = {\n",
        "    \"content\": \"Check out this cool embed!\",\n",
        "    \"embeds\": [\n",
        "        {\n",
        "            \"title\": \"Python Automation\",\n",
        "            \"description\": \"This message was sent using a webhook and Python.\",\n",
        "            \"url\": \"https://www.python.org\",\n",
        "            \"color\": 5814783,  # Hex color code (e.g., #58A6FF)\n",
        "            \"footer\": {\"text\": \"Powered by Python 🚀\"}\n",
        "        }\n",
        "    ]\n",
        "}\n",
        "\n",
        "response = requests.post(webhook_url, json=message_with_embed)\n",
        "\n",
        "if response.status_code == 204:\n",
        "    print(\"Message with embed sent successfully!\")\n",
        "else:\n",
        "    print(f\"Failed to send message. Status code: {response.status_code}\")\n"
      ],
      "metadata": {
        "colab": {
          "base_uri": "https://localhost:8080/"
        },
        "id": "xBtd05WejVNr",
        "outputId": "a6f3d12c-51e3-4c11-dfff-7881d2118105"
      },
      "execution_count": null,
      "outputs": [
        {
          "output_type": "stream",
          "name": "stdout",
          "text": [
            "Message with embed sent successfully!\n"
          ]
        }
      ]
    },
    {
      "cell_type": "code",
      "source": [
        "message_with_image = {\n",
        "    \"content\": \"Here's an image!\",\n",
        "    \"embeds\": [\n",
        "        {\n",
        "            \"title\": \"Check out this picture!\",\n",
        "            \"image\": {\"url\": \"https://wallpapershome.com/images/pages/pic_h/5186.jpg\"}\n",
        "        }\n",
        "    ]\n",
        "}\n",
        "\n",
        "response = requests.post(webhook_url, json=message_with_image)\n",
        "\n",
        "if response.status_code == 204:\n",
        "    print(\"Image sent successfully!\")\n",
        "else:\n",
        "    print(f\"Failed to send image. Status code: {response.status_code}\")\n"
      ],
      "metadata": {
        "colab": {
          "base_uri": "https://localhost:8080/"
        },
        "id": "y1yUmiYMjaq2",
        "outputId": "5926d57f-24d5-4ba2-b051-c3583f4ae976"
      },
      "execution_count": null,
      "outputs": [
        {
          "output_type": "stream",
          "name": "stdout",
          "text": [
            "Image sent successfully!\n"
          ]
        }
      ]
    },
    {
      "cell_type": "code",
      "source": [
        "import requests\n",
        "\n",
        "# Replace with your Discord Webhook URL\n",
        "webhook_url = \"https://discord.com/api/webhooks/1313062399561171044/Gwc6Z91G-cPKfVO2CzmAmbw3dQpfXcZp7nA_J-iicN_m6vR7jB5YHXaUqbxIXqMkavcH\"\n",
        "\n",
        "# Message contentThis message is sent from Python in Google Colab. 🚀\"\n",
        "message = {\n",
        "    \"content\": \"Hello, Discord!\"\n",
        "}\n",
        "\n",
        "# Send POST request\n",
        "response = requests.post(webhook_url, json=message)\n",
        "\n",
        "# Check response\n",
        "if response.status_code == 204:\n",
        "    print(\"Message sent successfully!\")\n",
        "else:\n",
        "    print(f\"Failed to send message. Status code: {response.status_code}\")"
      ],
      "metadata": {
        "colab": {
          "base_uri": "https://localhost:8080/"
        },
        "id": "51YPwSHHuMhv",
        "outputId": "4e36690a-3e08-4a1e-8d6e-1357206308fb"
      },
      "execution_count": null,
      "outputs": [
        {
          "output_type": "stream",
          "name": "stdout",
          "text": [
            "Message sent successfully!\n"
          ]
        }
      ]
    },
    {
      "cell_type": "code",
      "source": [
        "import time\n",
        "\n",
        "for i in range(5):  # Send 5 messages\n",
        "    message = {\"content\": f\"Automated Message #{i+1}\"}\n",
        "    response = requests.post(webhook_url, json=message)\n",
        "\n",
        "    if response.status_code == 204:\n",
        "        print(f\"Message #{i+1} sent successfully!\")\n",
        "    else:\n",
        "        print(f\"Failed to send message #{i+1}. Status code: {response.status_code}\")\n",
        "\n",
        "    time.sleep(10)  # Wait 10 seconds before sending the next message\n"
      ],
      "metadata": {
        "colab": {
          "base_uri": "https://localhost:8080/"
        },
        "id": "BsJi7eKkuveu",
        "outputId": "c71ec18e-3eea-4f69-f487-ab6a177ea4f2"
      },
      "execution_count": null,
      "outputs": [
        {
          "output_type": "stream",
          "name": "stdout",
          "text": [
            "Message #1 sent successfully!\n",
            "Message #2 sent successfully!\n",
            "Message #3 sent successfully!\n",
            "Message #4 sent successfully!\n",
            "Message #5 sent successfully!\n"
          ]
        }
      ]
    }
  ]
}